{
 "metadata": {
  "name": "ParamInitTesting"
 },
 "nbformat": 3,
 "nbformat_minor": 0,
 "worksheets": [
  {
   "cells": [
    {
     "cell_type": "code",
     "collapsed": false,
     "input": [
      "# Let's load up the model and data\n",
      "from semmdd_model import data_preproc, luciano_model\n",
      "import numpy as np\n",
      "import cPickle as pickle\n",
      "import random"
     ],
     "language": "python",
     "metadata": {},
     "outputs": [],
     "prompt_number": 3
    },
    {
     "cell_type": "code",
     "collapsed": false,
     "input": [
      "ups = 'UPittSSRI.dat'\n",
      "data_pp = data_preproc()\n",
      "data_pp.load(loadfile=ups)\n",
      "data_pp.prefilter()\n",
      "data_pp.spline()\n",
      "patient_ids = data_pp.get_keys()"
     ],
     "language": "python",
     "metadata": {},
     "outputs": [],
     "prompt_number": 13
    },
    {
     "cell_type": "code",
     "collapsed": false,
     "input": [
      "#Let's build some utility functions\n",
      "\n",
      "def step(t):\n",
      "    return (0 if t < 0 else 1)\n",
      "\n",
      "def step_prime(t):\n",
      "    # Really\n",
      "    return (1 if t == 0 else 0)\n",
      "\n",
      "def h(alpha, time_to_resp):\n",
      "    return 1/(1 + math.exp(-1*alpha*time_to_resp))"
     ],
     "language": "python",
     "metadata": {},
     "outputs": [],
     "prompt_number": 14
    },
    {
     "cell_type": "code",
     "collapsed": false,
     "input": [
      "# Need clarity on: pg. 53 fig 3.14, which patient data does X correspond to? In meantime will use random patient to prototype\n",
      "#rand_patient = random.choice(patient_ids)\n",
      "#X = data_pp.retrieve(rand_patient)\n",
      "\n",
      "halfreduxes = dict()\n",
      "length, num_items = (124, data_pp.num_items)\n",
      "X_ext_avg = np.zeros((length+1, num_items))\n",
      "X_overall = data_pp.data\n",
      "X_ext_overall = dict()\n",
      "for patient in X_overall:\n",
      "    X = X_overall[patient]\n",
      "    # Create the 'Actual Symptom Values' (ASV) by prepending the baseline -- \n",
      "    #before the first check in we assume their symptoms were the same\n",
      "    X_ext = np.vstack((X[0], X))\n",
      "    X_ext_overall[patient] = X_ext\n",
      "    X_ext_avg += X_ext\n",
      "\n",
      "X_ext_avg /= len(patient_ids)"
     ],
     "language": "python",
     "metadata": {},
     "outputs": [],
     "prompt_number": 73
    },
    {
     "cell_type": "code",
     "collapsed": false,
     "input": [
      "sorted_pids = sorted(patient_ids,key=lambda x: int(x))\n",
      "aug_num_items = 2*num_items + 2 #For X'\n",
      "\n",
      "del_X_overall = dict()\n",
      "Xprime_overall = dict()\n",
      "for patient in sorted_pids:\n",
      "    X = X_ext_overall[patient]\n",
      "    del_X_overall[patient] = []\n",
      "    Xprime_overall[patient] = []\n",
      "    for t, row in enumerate(X):\n",
      "        # This is what the paper defined as the 'derivative', although it's obviously not the instantaneous derivative\n",
      "        del_X_t = X[t-1] - X[t] if t != 0 else np.zeros(num_items)\n",
      "        Xprime_t = np.zeros(2*num_items + 2)\n",
      "        Xprime_t[:num_items] = X[t]\n",
      "        Xprime_t[num_items] = step(t)\n",
      "        Xprime_t[num_items+1:2*num_items+1] = del_X_t\n",
      "        Xprime_t[-1] = step_prime(t)\n",
      "        del_X_overall[patient].append(del_X_t)\n",
      "        Xprime_overall[patient].append(Xprime_t)\n",
      "\n",
      "# X'_pts = X'_stp\n",
      "Xprime_T = {s:[[Xprime_overall[p][t][s] for p in sorted_pids] for t in range(length+1)] for s in range(aug_num_items)}"
     ],
     "language": "python",
     "metadata": {},
     "outputs": [],
     "prompt_number": 75
    },
    {
     "cell_type": "code",
     "collapsed": false,
     "input": [
      "# that doesn't seem to work, how about we try 'half reduction time' as defined on page 43 eq 3.4,3.5\n",
      "hrt = {i:0 for i in range(num_items)}\n",
      "for i in range(num_items):\n",
      "    responses = [t[i] for t in X_ext_avg]\n",
      "    avg = (responses[0] + responses[-1])/2.0\n",
      "    min_dist = np.abs(avg - responses[0])\n",
      "    best_t = 0\n",
      "    for t, x in enumerate(responses):\n",
      "        # Get closest distance\n",
      "        if min_dist > np.abs(x-avg):\n",
      "            min_dist = np.abs(x-avg)\n",
      "            best_t = t\n",
      "    #hrts = {x:t for t,x in enumerate(responses) if x <= avg}\n",
      "    #this_hrt = hrts[min(hrts.keys())]\n",
      "    hrt[i] = best_t\n",
      "    \n",
      "avg_hrt = sum(hrt.values())/float(len(hrt))\n",
      "print avg_hrt\n",
      "print hrt\n",
      "alphas = {i:del_X[hrt[i]][i] for i in range(num_items)}\n",
      "avg_alpha = sum(alphas.values())/float(len(alphas))\n",
      "print avg_alpha\n",
      "print alphas\n",
      "#print avg_alpha\n",
      "# Find the start of descent for each item, then take average and set it as onset of response\n",
      "# Do the same with steepness"
     ],
     "language": "python",
     "metadata": {},
     "outputs": [
      {
       "output_type": "stream",
       "stream": "stdout",
       "text": [
        "88.1785714286\n",
        "{0: 10, 1: 101, 2: 104, 3: 35, 4: 98, 5: 108, 6: 49, 7: 15, 8: 116, 9: 24, 10: 99, 11: 97, 12: 109, 13: 108, 14: 100, 15: 106, 16: 117, 17: 109, 18: 101, 19: 100, 20: 102, 21: 107, 22: 90, 23: 106, 24: 105, 25: 20, 26: 122, 27: 111}\n",
        "0.000798719199852\n",
        "{0: 0.02295505200786252, 1: 0.0048538383504637796, 2: 0.010929307132167831, 3: 0.011975029397350401, 4: 0.029419452962997625, 5: 0.0, 6: -0.0012602127778689187, 7: 0.0087348239859926791, 8: 0.022899028845810909, 9: 0.0053684797367434256, 10: -0.024595827244425439, 11: 0.013614572527539247, 12: 0.0033303865955803258, 13: -0.10064749137220264, 14: 0.0084913003417859626, 15: 0.0, 16: 0.0, 17: -0.050899812979905701, 18: -0.042218584567637107, 19: -0.003540199963882178, 20: 0.067238047299019388, 21: 0.048888462516232162, 22: 0.0046804864738821672, 23: -0.010934839532710738, 24: 0.0077738198124388397, 25: 0.0027268952553657355, 26: -0.020488239833189786, 27: 0.0030703626264398515}\n"
       ]
      }
     ],
     "prompt_number": 20
    },
    {
     "cell_type": "code",
     "collapsed": false,
     "input": [
      "# Calculate lambda(k) from pg 53 eq 3.17\n",
      "# lambda is a aug_num_items x aug_num_items matrix \n",
      "# lambda(k)[i][j] = avg(del_X_overall[i][t]*del_X_overall[j][t-k])\n",
      "\n",
      "# Note, this is O(n*t*s^2) (t = length of study, s = num_aug_items), and takes some time (30 secs (!) on UPittSSRI). \n",
      "# This would not be practical for larger datasets -- is there a better way?\n",
      "def corrmat(k, Xp, length, num_items):\n",
      "    \"\"\" Returns the correlation matrix for k \"\"\"\n",
      "    # We're using the augmented symptom thing from X'\n",
      "    \n",
      "    lam = [[np.average([np.dot(Xp[i][t],Xp[j][t-k]) for t in range(length+1)],axis=0) for j in range(num_items)] for i in range(num_items)]\n",
      "    return np.array(lam)\n",
      "\n",
      "import time\n",
      "time_test = True\n",
      "if time_test:\n",
      "    tic = time.time()\n",
      "    lamb_1 = corrmat(1, Xprime_T, length, aug_num_items)\n",
      "    toc = time.time() - tic\n",
      "    print lamb_1.shape\n",
      "    print toc\n",
      "\n",
      "\n"
     ],
     "language": "python",
     "metadata": {},
     "outputs": [
      {
       "output_type": "stream",
       "stream": "stdout",
       "text": [
        "(58, 58)\n",
        "30.7005200386\n"
       ]
      }
     ],
     "prompt_number": 78
    },
    {
     "cell_type": "code",
     "collapsed": false,
     "input": [
      "# First order regression matrix phi_1 pg 53 eq 3.16\n",
      "tic = time.time()\n",
      "lamb0 = corrmat(0, Xprime_T, length, aug_num_items)\n",
      "lamb0_inv = np.linalg.inv(lamb0)\n",
      "lamb1 = corrmat(1, Xprime_T, length, aug_num_items)\n",
      "phi_1 = np.dot(lamb1, lamb0_inv)\n",
      "toc = time.time() - tic\n",
      "print toc"
     ],
     "language": "python",
     "metadata": {},
     "outputs": [
      {
       "output_type": "stream",
       "stream": "stdout",
       "text": [
        "63.3897218704\n"
       ]
      }
     ],
     "prompt_number": 82
    },
    {
     "cell_type": "code",
     "collapsed": false,
     "input": [
      "Pp = phi_1 - np.eye(aug_num_items) # eq 3.22 pg 54\n",
      "ip = lambda i: i+num_items+1 # i' = i + N + 1\n",
      "A = [1 - Pp[ip(i)][ip(i)] for i in range(num_items)]\n",
      "w = [[Pp[ip(i)][j] for i in range(num_items)] for j in range(aug_num_items)]\n",
      "u = [Pp[ip(i)][num_items+1] for i in range(num_items)]\n",
      "v = np.zeros(num_items)\n",
      "B = np.zeros(num_items)\n",
      "alpha = avg_alpha\n",
      "del_t = avg_hrt"
     ],
     "language": "python",
     "metadata": {},
     "outputs": [],
     "prompt_number": 92
    }
   ],
   "metadata": {}
  }
 ]
}